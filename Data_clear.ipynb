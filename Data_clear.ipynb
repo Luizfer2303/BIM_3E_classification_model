{
 "cells": [
  {
   "cell_type": "code",
   "execution_count": 3,
   "metadata": {},
   "outputs": [
    {
     "name": "stderr",
     "output_type": "stream",
     "text": [
      "C:\\Users\\Administrator\\AppData\\Local\\Temp\\ipykernel_7632\\4150819208.py:3: DtypeWarning: Columns (7,8) have mixed types. Specify dtype option on import or set low_memory=False.\n",
      "  df = pd.read_csv(r'data\\clear_data\\Brizze_Estoril_Model_Data.csv')\n"
     ]
    }
   ],
   "source": [
    "import pandas as pd\n",
    "\n",
    "df = pd.read_csv(r'data\\clear_data\\Brizze_Estoril_Model_Data.csv')\n",
    "df_ref = pd.read_csv(r'data\\reference\\3E-22.csv')\n",
    "# df = df.dropna(subset=['NBR_COD']).drop_duplicates(subset=['Name']).rename(columns={'FirstChildName':'Material'})\n",
    "df = df[df['NBR_COD'].isna()].drop_duplicates(subset=['Name']).rename(columns={'FirstChildName':'Material'})\n",
    "df['NBR_COD'] = df['NBR_COD'].str.replace(' ', '-').str.replace('.', '-')\n",
    "df['NBR_DESC'] = df['NBR_DESC'].str.replace(' ', '-').str.replace('.', '-')\n",
    "\n",
    "for index, row in df.iterrows():\n",
    "    try:\n",
    "        if '3E' not in row['NBR_COD']:\n",
    "            if pd.notna(row['NBR_DESC']):\n",
    "                df.at[index, 'NBR_COD'] = str(row['NBR_DESC'])\n",
    "                df.at[index, 'NBR_DESC'] = df_ref[df_ref['Código'] == row['NBR_DESC']]['Termo'].values[0]\n",
    "    except:\n",
    "        pass\n",
    "\n",
    "df.to_csv(r'data\\creared\\Brizze_Estoril_NBR_COD_Review.csv')"
   ]
  }
 ],
 "metadata": {
  "kernelspec": {
   "display_name": "Python 3",
   "language": "python",
   "name": "python3"
  },
  "language_info": {
   "codemirror_mode": {
    "name": "ipython",
    "version": 3
   },
   "file_extension": ".py",
   "mimetype": "text/x-python",
   "name": "python",
   "nbconvert_exporter": "python",
   "pygments_lexer": "ipython3",
   "version": "3.12.4"
  }
 },
 "nbformat": 4,
 "nbformat_minor": 2
}
