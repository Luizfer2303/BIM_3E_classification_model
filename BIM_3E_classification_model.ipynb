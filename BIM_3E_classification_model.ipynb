{
 "cells": [
  {
   "cell_type": "markdown",
   "metadata": {},
   "source": [
    "Clean data and prepare samples"
   ]
  },
  {
   "cell_type": "code",
   "execution_count": 28,
   "metadata": {},
   "outputs": [
    {
     "name": "stderr",
     "output_type": "stream",
     "text": [
      "C:\\Users\\Administrator\\AppData\\Local\\Temp\\ipykernel_11724\\1809183503.py:11: SettingWithCopyWarning: \n",
      "A value is trying to be set on a copy of a slice from a DataFrame.\n",
      "Try using .loc[row_indexer,col_indexer] = value instead\n",
      "\n",
      "See the caveats in the documentation: https://pandas.pydata.org/pandas-docs/stable/user_guide/indexing.html#returning-a-view-versus-a-copy\n",
      "  df_train['NBR_ENCOD'] = label_encoder.fit_transform(df_train['NBR_COD'])\n"
     ]
    },
    {
     "data": {
      "text/plain": [
       "(7255, 41)"
      ]
     },
     "execution_count": 28,
     "metadata": {},
     "output_type": "execute_result"
    }
   ],
   "source": [
    "from sklearn.preprocessing import LabelEncoder, OneHotEncoder\n",
    "import pandas as pd\n",
    "import pickle\n",
    "\n",
    "df_objects = pd.read_csv(r'data\\raw_data\\objectsRevaluated.csv', sep=',', low_memory=False)\n",
    "df_objects = df_objects[['Name', 'Type', 'Family', 'Category', 'NBR_COD', 'NBR_DESC']]\n",
    "\n",
    "df_train = df_objects[df_objects['NBR_COD'].notna()]\n",
    "\n",
    "label_encoder = LabelEncoder()\n",
    "df_train['NBR_ENCOD'] = label_encoder.fit_transform(df_train['NBR_COD'])\n",
    "\n",
    "one_hot_encoder = OneHotEncoder(sparse_output=False)\n",
    "y_train = one_hot_encoder.fit_transform(df_train['NBR_ENCOD'].values.reshape(-1,1))\n",
    "\n",
    "with open('models/label_encoder.pkl', 'wb') as f:\n",
    "    pickle.dump(label_encoder, f)"
   ]
  },
  {
   "cell_type": "markdown",
   "metadata": {},
   "source": [
    "Build model"
   ]
  },
  {
   "cell_type": "code",
   "execution_count": 29,
   "metadata": {},
   "outputs": [
    {
     "name": "stdout",
     "output_type": "stream",
     "text": [
      "Epoch 1/20\n",
      "\u001b[1m227/227\u001b[0m \u001b[32m━━━━━━━━━━━━━━━━━━━━\u001b[0m\u001b[37m\u001b[0m \u001b[1m2s\u001b[0m 1ms/step - accuracy: 0.6505 - loss: 2.2574\n",
      "Epoch 2/20\n",
      "\u001b[1m227/227\u001b[0m \u001b[32m━━━━━━━━━━━━━━━━━━━━\u001b[0m\u001b[37m\u001b[0m \u001b[1m0s\u001b[0m 1ms/step - accuracy: 0.9408 - loss: 0.2649\n",
      "Epoch 3/20\n",
      "\u001b[1m227/227\u001b[0m \u001b[32m━━━━━━━━━━━━━━━━━━━━\u001b[0m\u001b[37m\u001b[0m \u001b[1m0s\u001b[0m 1ms/step - accuracy: 0.9619 - loss: 0.1229\n",
      "Epoch 4/20\n",
      "\u001b[1m227/227\u001b[0m \u001b[32m━━━━━━━━━━━━━━━━━━━━\u001b[0m\u001b[37m\u001b[0m \u001b[1m0s\u001b[0m 1ms/step - accuracy: 0.9621 - loss: 0.0919\n",
      "Epoch 5/20\n",
      "\u001b[1m227/227\u001b[0m \u001b[32m━━━━━━━━━━━━━━━━━━━━\u001b[0m\u001b[37m\u001b[0m \u001b[1m0s\u001b[0m 1ms/step - accuracy: 0.9673 - loss: 0.0752\n",
      "Epoch 6/20\n",
      "\u001b[1m227/227\u001b[0m \u001b[32m━━━━━━━━━━━━━━━━━━━━\u001b[0m\u001b[37m\u001b[0m \u001b[1m0s\u001b[0m 1ms/step - accuracy: 0.9661 - loss: 0.0704\n",
      "Epoch 7/20\n",
      "\u001b[1m227/227\u001b[0m \u001b[32m━━━━━━━━━━━━━━━━━━━━\u001b[0m\u001b[37m\u001b[0m \u001b[1m0s\u001b[0m 1ms/step - accuracy: 0.9588 - loss: 0.0721\n",
      "Epoch 8/20\n",
      "\u001b[1m227/227\u001b[0m \u001b[32m━━━━━━━━━━━━━━━━━━━━\u001b[0m\u001b[37m\u001b[0m \u001b[1m0s\u001b[0m 1ms/step - accuracy: 0.9686 - loss: 0.0596\n",
      "Epoch 9/20\n",
      "\u001b[1m227/227\u001b[0m \u001b[32m━━━━━━━━━━━━━━━━━━━━\u001b[0m\u001b[37m\u001b[0m \u001b[1m0s\u001b[0m 1ms/step - accuracy: 0.9659 - loss: 0.0616\n",
      "Epoch 10/20\n",
      "\u001b[1m227/227\u001b[0m \u001b[32m━━━━━━━━━━━━━━━━━━━━\u001b[0m\u001b[37m\u001b[0m \u001b[1m0s\u001b[0m 1ms/step - accuracy: 0.9649 - loss: 0.0639\n",
      "Epoch 11/20\n",
      "\u001b[1m227/227\u001b[0m \u001b[32m━━━━━━━━━━━━━━━━━━━━\u001b[0m\u001b[37m\u001b[0m \u001b[1m0s\u001b[0m 1ms/step - accuracy: 0.9664 - loss: 0.0622\n",
      "Epoch 12/20\n",
      "\u001b[1m227/227\u001b[0m \u001b[32m━━━━━━━━━━━━━━━━━━━━\u001b[0m\u001b[37m\u001b[0m \u001b[1m0s\u001b[0m 1ms/step - accuracy: 0.9680 - loss: 0.0600\n",
      "Epoch 13/20\n",
      "\u001b[1m227/227\u001b[0m \u001b[32m━━━━━━━━━━━━━━━━━━━━\u001b[0m\u001b[37m\u001b[0m \u001b[1m0s\u001b[0m 1ms/step - accuracy: 0.9690 - loss: 0.0551\n",
      "Epoch 14/20\n",
      "\u001b[1m227/227\u001b[0m \u001b[32m━━━━━━━━━━━━━━━━━━━━\u001b[0m\u001b[37m\u001b[0m \u001b[1m0s\u001b[0m 1ms/step - accuracy: 0.9662 - loss: 0.0609\n",
      "Epoch 15/20\n",
      "\u001b[1m227/227\u001b[0m \u001b[32m━━━━━━━━━━━━━━━━━━━━\u001b[0m\u001b[37m\u001b[0m \u001b[1m0s\u001b[0m 1ms/step - accuracy: 0.9612 - loss: 0.0615\n",
      "Epoch 16/20\n",
      "\u001b[1m227/227\u001b[0m \u001b[32m━━━━━━━━━━━━━━━━━━━━\u001b[0m\u001b[37m\u001b[0m \u001b[1m0s\u001b[0m 1ms/step - accuracy: 0.9665 - loss: 0.0605\n",
      "Epoch 17/20\n",
      "\u001b[1m227/227\u001b[0m \u001b[32m━━━━━━━━━━━━━━━━━━━━\u001b[0m\u001b[37m\u001b[0m \u001b[1m0s\u001b[0m 1ms/step - accuracy: 0.9683 - loss: 0.0576\n",
      "Epoch 18/20\n",
      "\u001b[1m227/227\u001b[0m \u001b[32m━━━━━━━━━━━━━━━━━━━━\u001b[0m\u001b[37m\u001b[0m \u001b[1m0s\u001b[0m 1ms/step - accuracy: 0.9687 - loss: 0.0562\n",
      "Epoch 19/20\n",
      "\u001b[1m227/227\u001b[0m \u001b[32m━━━━━━━━━━━━━━━━━━━━\u001b[0m\u001b[37m\u001b[0m \u001b[1m0s\u001b[0m 1ms/step - accuracy: 0.9644 - loss: 0.0629\n",
      "Epoch 20/20\n",
      "\u001b[1m227/227\u001b[0m \u001b[32m━━━━━━━━━━━━━━━━━━━━\u001b[0m\u001b[37m\u001b[0m \u001b[1m0s\u001b[0m 1ms/step - accuracy: 0.9671 - loss: 0.0574\n"
     ]
    }
   ],
   "source": [
    "from sklearn.feature_extraction.text import TfidfVectorizer\n",
    "from keras.api.models import Model\n",
    "from keras.api.layers import Dense, Input, Concatenate\n",
    "import pickle\n",
    "\n",
    "tfidf_name = TfidfVectorizer()  \n",
    "tfidf_type = TfidfVectorizer()  \n",
    "tfidf_family = TfidfVectorizer()  \n",
    "tfidf_category = TfidfVectorizer()  \n",
    "\n",
    "x_train_name = tfidf_name.fit_transform(df_train['Name'].astype(str))\n",
    "x_train_type = tfidf_type.fit_transform(df_train['Type'].astype(str))\n",
    "x_train_family = tfidf_family.fit_transform(df_train['Family'].astype(str))\n",
    "x_train_category = tfidf_category.fit_transform(df_train['Category'].astype(str))\n",
    "\n",
    "with open('models/tfidf_name.pkl', 'wb') as f:\n",
    "    pickle.dump(tfidf_name, f)\n",
    "\n",
    "with open('models/tfidf_type.pkl', 'wb') as f:\n",
    "    pickle.dump(tfidf_type, f)\n",
    "\n",
    "with open('models/tfidf_family.pkl', 'wb') as f:\n",
    "    pickle.dump(tfidf_family, f)\n",
    "\n",
    "with open('models/tfidf_category.pkl', 'wb') as f:\n",
    "    pickle.dump(tfidf_category, f)\n",
    "\n",
    "# Individual inputs\n",
    "name_input = Input(shape=(x_train_name.shape[1],))\n",
    "type_input = Input(shape=(x_train_type.shape[1],))\n",
    "family_input = Input(shape=(x_train_family.shape[1],))\n",
    "category_input = Input(shape=(x_train_category.shape[1],))\n",
    "\n",
    "# One layer for each input\n",
    "name_layer = Dense(64, activation='relu')(name_input)\n",
    "type_layer = Dense(64, activation='relu')(type_input)\n",
    "family_layer = Dense(64, activation='relu')(family_input)\n",
    "category_layer = Dense(64, activation='relu')(category_input)\n",
    "\n",
    "# Concatenate layers outputs\n",
    "combined = Concatenate()([name_layer,type_layer,family_layer,category_layer])\n",
    "\n",
    "# Output layer\n",
    "output = Dense(y_train.shape[1], activation='softmax')(combined)\n",
    "\n",
    "# Create model\n",
    "model = Model(inputs=[name_input,type_input,family_input,category_input], outputs=output)\n",
    "\n",
    "# Compile model\n",
    "model.compile(optimizer='adam', loss='categorical_crossentropy', metrics=['accuracy'])\n",
    "\n",
    "# Train model\n",
    "model.fit([x_train_name,x_train_type,x_train_family,x_train_category], y_train, epochs=20, batch_size=32)\n",
    "\n",
    "# Save model\n",
    "model.save(r'models/BIM_CLASSIFICATION_MODEL.keras')"
   ]
  },
  {
   "cell_type": "markdown",
   "metadata": {},
   "source": [
    "Test model"
   ]
  },
  {
   "cell_type": "code",
   "execution_count": 32,
   "metadata": {},
   "outputs": [
    {
     "name": "stdout",
     "output_type": "stream",
     "text": [
      "\u001b[1m306/306\u001b[0m \u001b[32m━━━━━━━━━━━━━━━━━━━━\u001b[0m\u001b[37m\u001b[0m \u001b[1m0s\u001b[0m 1ms/step\n"
     ]
    }
   ],
   "source": [
    "import pandas as pd\n",
    "import numpy as np\n",
    "from keras.api.models import load_model\n",
    "import pickle\n",
    "\n",
    "model = load_model(r'models/BIM_CLASSIFICATION_MODEL.keras')\n",
    "\n",
    "df_objects = pd.read_csv(r'data/raw_data/objectsRevaluated.csv', sep=',', low_memory=False)\n",
    "df_objects = df_objects[['Name', 'Type', 'Family', 'Category', 'NBR_COD', 'NBR_DESC']]\n",
    "\n",
    "df_sample = df_objects.copy()\n",
    "\n",
    "with open('models/tfidf_name.pkl', 'rb') as f:\n",
    "    tfidf_name = pickle.load(f)\n",
    "\n",
    "with open('models/tfidf_type.pkl', 'rb') as f:\n",
    "    tfidf_type = pickle.load(f)\n",
    "\n",
    "with open('models/tfidf_family.pkl', 'rb') as f:\n",
    "    tfidf_family = pickle.load(f)\n",
    "\n",
    "with open('models/tfidf_category.pkl', 'rb') as f:\n",
    "    tfidf_category = pickle.load(f)\n",
    "    \n",
    "with open('models/label_encoder.pkl', 'rb') as f:\n",
    "    label_encoder = pickle.load(f)\n",
    "\n",
    "x_test_name = tfidf_name.transform(df_sample['Name'].astype(str)).toarray()\n",
    "x_test_type = tfidf_type.transform(df_sample['Type'].astype(str)).toarray()\n",
    "x_test_family = tfidf_family.transform(df_sample['Family'].astype(str)).toarray()\n",
    "x_test_category = tfidf_category.transform(df_sample['Category'].astype(str)).toarray()\n",
    "\n",
    "y_pred = model.predict([x_test_name, x_test_type, x_test_family, x_test_category])\n",
    "y_pred_labels = np.argmax(y_pred, axis=1)\n",
    "\n",
    "df_sample['NBR_COD_PRED'] = label_encoder.inverse_transform(y_pred_labels)\n",
    "df_sample = df_sample.drop_duplicates(subset=['Family','Category'])\n",
    "df_sample.to_csv(r'predictions/NBR_predicted.csv', index=False)\n"
   ]
  }
 ],
 "metadata": {
  "kernelspec": {
   "display_name": "Python 3",
   "language": "python",
   "name": "python3"
  },
  "language_info": {
   "codemirror_mode": {
    "name": "ipython",
    "version": 3
   },
   "file_extension": ".py",
   "mimetype": "text/x-python",
   "name": "python",
   "nbconvert_exporter": "python",
   "pygments_lexer": "ipython3",
   "version": "3.12.4"
  }
 },
 "nbformat": 4,
 "nbformat_minor": 2
}
