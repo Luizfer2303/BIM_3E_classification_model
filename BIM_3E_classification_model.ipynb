{
 "cells": [
  {
   "cell_type": "markdown",
   "metadata": {},
   "source": [
    "Clean data and prepare samples"
   ]
  },
  {
   "cell_type": "code",
   "execution_count": 9,
   "metadata": {},
   "outputs": [
    {
     "name": "stderr",
     "output_type": "stream",
     "text": [
      "C:\\Users\\Administrator\\AppData\\Local\\Temp\\ipykernel_12244\\515394877.py:10: SettingWithCopyWarning: \n",
      "A value is trying to be set on a copy of a slice from a DataFrame.\n",
      "Try using .loc[row_indexer,col_indexer] = value instead\n",
      "\n",
      "See the caveats in the documentation: https://pandas.pydata.org/pandas-docs/stable/user_guide/indexing.html#returning-a-view-versus-a-copy\n",
      "  df_train['NBR_ENCOD'] = label_encoder.fit_transform(df_train['NBR_COD'])\n"
     ]
    }
   ],
   "source": [
    "from sklearn.preprocessing import LabelEncoder, OneHotEncoder\n",
    "import pandas as pd\n",
    "\n",
    "df_objects = pd.read_csv(r'data\\objectsRevaluated.csv', sep=',', low_memory=False)\n",
    "df_objects = df_objects[['Name', 'Type', 'Family', 'Category', 'NBR_COD', 'NBR_DESC']]\n",
    "\n",
    "df_train = df_objects[df_objects['NBR_COD'].notna()]\n",
    "\n",
    "label_encoder = LabelEncoder()\n",
    "df_train['NBR_ENCOD'] = label_encoder.fit_transform(df_train['NBR_COD'])\n",
    "\n",
    "one_hot_encoder = OneHotEncoder(sparse_output=False)\n",
    "y_train = one_hot_encoder.fit_transform(df_train['NBR_ENCOD'].values.reshape(-1,1))\n"
   ]
  },
  {
   "cell_type": "markdown",
   "metadata": {},
   "source": [
    "Build model"
   ]
  },
  {
   "cell_type": "code",
   "execution_count": 10,
   "metadata": {},
   "outputs": [
    {
     "name": "stdout",
     "output_type": "stream",
     "text": [
      "x_train_combined shape: (7255, 815)\n",
      "y_train shape: (7255, 41)\n",
      "Epoch 1/20\n",
      "\u001b[1m227/227\u001b[0m \u001b[32m━━━━━━━━━━━━━━━━━━━━\u001b[0m\u001b[37m\u001b[0m \u001b[1m1s\u001b[0m 1ms/step - accuracy: 0.5840 - loss: 2.0792\n",
      "Epoch 2/20\n",
      "\u001b[1m227/227\u001b[0m \u001b[32m━━━━━━━━━━━━━━━━━━━━\u001b[0m\u001b[37m\u001b[0m \u001b[1m0s\u001b[0m 1ms/step - accuracy: 0.9180 - loss: 0.3330\n",
      "Epoch 3/20\n",
      "\u001b[1m227/227\u001b[0m \u001b[32m━━━━━━━━━━━━━━━━━━━━\u001b[0m\u001b[37m\u001b[0m \u001b[1m0s\u001b[0m 1ms/step - accuracy: 0.9483 - loss: 0.1649\n",
      "Epoch 4/20\n",
      "\u001b[1m227/227\u001b[0m \u001b[32m━━━━━━━━━━━━━━━━━━━━\u001b[0m\u001b[37m\u001b[0m \u001b[1m0s\u001b[0m 1ms/step - accuracy: 0.9527 - loss: 0.1275\n",
      "Epoch 5/20\n",
      "\u001b[1m227/227\u001b[0m \u001b[32m━━━━━━━━━━━━━━━━━━━━\u001b[0m\u001b[37m\u001b[0m \u001b[1m0s\u001b[0m 1ms/step - accuracy: 0.9577 - loss: 0.1043\n",
      "Epoch 6/20\n",
      "\u001b[1m227/227\u001b[0m \u001b[32m━━━━━━━━━━━━━━━━━━━━\u001b[0m\u001b[37m\u001b[0m \u001b[1m0s\u001b[0m 1ms/step - accuracy: 0.9602 - loss: 0.0908\n",
      "Epoch 7/20\n",
      "\u001b[1m227/227\u001b[0m \u001b[32m━━━━━━━━━━━━━━━━━━━━\u001b[0m\u001b[37m\u001b[0m \u001b[1m0s\u001b[0m 1ms/step - accuracy: 0.9631 - loss: 0.0805\n",
      "Epoch 8/20\n",
      "\u001b[1m227/227\u001b[0m \u001b[32m━━━━━━━━━━━━━━━━━━━━\u001b[0m\u001b[37m\u001b[0m \u001b[1m0s\u001b[0m 1ms/step - accuracy: 0.9583 - loss: 0.0857\n",
      "Epoch 9/20\n",
      "\u001b[1m227/227\u001b[0m \u001b[32m━━━━━━━━━━━━━━━━━━━━\u001b[0m\u001b[37m\u001b[0m \u001b[1m0s\u001b[0m 1ms/step - accuracy: 0.9647 - loss: 0.0719\n",
      "Epoch 10/20\n",
      "\u001b[1m227/227\u001b[0m \u001b[32m━━━━━━━━━━━━━━━━━━━━\u001b[0m\u001b[37m\u001b[0m \u001b[1m0s\u001b[0m 1ms/step - accuracy: 0.9676 - loss: 0.0684\n",
      "Epoch 11/20\n",
      "\u001b[1m227/227\u001b[0m \u001b[32m━━━━━━━━━━━━━━━━━━━━\u001b[0m\u001b[37m\u001b[0m \u001b[1m0s\u001b[0m 1ms/step - accuracy: 0.9586 - loss: 0.0676\n",
      "Epoch 12/20\n",
      "\u001b[1m227/227\u001b[0m \u001b[32m━━━━━━━━━━━━━━━━━━━━\u001b[0m\u001b[37m\u001b[0m \u001b[1m0s\u001b[0m 1ms/step - accuracy: 0.9644 - loss: 0.0650\n",
      "Epoch 13/20\n",
      "\u001b[1m227/227\u001b[0m \u001b[32m━━━━━━━━━━━━━━━━━━━━\u001b[0m\u001b[37m\u001b[0m \u001b[1m0s\u001b[0m 1ms/step - accuracy: 0.9648 - loss: 0.0685\n",
      "Epoch 14/20\n",
      "\u001b[1m227/227\u001b[0m \u001b[32m━━━━━━━━━━━━━━━━━━━━\u001b[0m\u001b[37m\u001b[0m \u001b[1m0s\u001b[0m 1ms/step - accuracy: 0.9655 - loss: 0.0661\n",
      "Epoch 15/20\n",
      "\u001b[1m227/227\u001b[0m \u001b[32m━━━━━━━━━━━━━━━━━━━━\u001b[0m\u001b[37m\u001b[0m \u001b[1m0s\u001b[0m 1ms/step - accuracy: 0.9662 - loss: 0.0675\n",
      "Epoch 16/20\n",
      "\u001b[1m227/227\u001b[0m \u001b[32m━━━━━━━━━━━━━━━━━━━━\u001b[0m\u001b[37m\u001b[0m \u001b[1m0s\u001b[0m 1ms/step - accuracy: 0.9648 - loss: 0.0602\n",
      "Epoch 17/20\n",
      "\u001b[1m227/227\u001b[0m \u001b[32m━━━━━━━━━━━━━━━━━━━━\u001b[0m\u001b[37m\u001b[0m \u001b[1m0s\u001b[0m 1ms/step - accuracy: 0.9677 - loss: 0.0620\n",
      "Epoch 18/20\n",
      "\u001b[1m227/227\u001b[0m \u001b[32m━━━━━━━━━━━━━━━━━━━━\u001b[0m\u001b[37m\u001b[0m \u001b[1m0s\u001b[0m 1ms/step - accuracy: 0.9636 - loss: 0.0647\n",
      "Epoch 19/20\n",
      "\u001b[1m227/227\u001b[0m \u001b[32m━━━━━━━━━━━━━━━━━━━━\u001b[0m\u001b[37m\u001b[0m \u001b[1m0s\u001b[0m 1ms/step - accuracy: 0.9623 - loss: 0.0682\n",
      "Epoch 20/20\n",
      "\u001b[1m227/227\u001b[0m \u001b[32m━━━━━━━━━━━━━━━━━━━━\u001b[0m\u001b[37m\u001b[0m \u001b[1m0s\u001b[0m 1ms/step - accuracy: 0.9641 - loss: 0.0681\n"
     ]
    }
   ],
   "source": [
    "from sklearn.feature_extraction.text import TfidfVectorizer\n",
    "from keras.api.models import Sequential\n",
    "from keras.api.layers import Dense, Dropout\n",
    "from keras.api.optimizers import Adam\n",
    "from scipy.sparse import hstack\n",
    "import pickle\n",
    "\n",
    "tfidf_name = TfidfVectorizer()  \n",
    "tfidf_type = TfidfVectorizer()  \n",
    "tfidf_family = TfidfVectorizer()  \n",
    "tfidf_category = TfidfVectorizer()  \n",
    "\n",
    "x_train_name = tfidf_name.fit_transform(df_train['Name'].astype(str))\n",
    "x_train_type = tfidf_type.fit_transform(df_train['Type'].astype(str))\n",
    "x_train_family = tfidf_family.fit_transform(df_train['Family'].astype(str))\n",
    "x_train_category = tfidf_category.fit_transform(df_train['Category'].astype(str))\n",
    "\n",
    "with open('models/tfidf_name.pkl', 'wb') as f:\n",
    "    pickle.dump(tfidf_name, f)\n",
    "\n",
    "with open('models/tfidf_type.pkl', 'wb') as f:\n",
    "    pickle.dump(tfidf_type, f)\n",
    "\n",
    "with open('models/tfidf_family.pkl', 'wb') as f:\n",
    "    pickle.dump(tfidf_family, f)\n",
    "\n",
    "with open('models/tfidf_category.pkl', 'wb') as f:\n",
    "    pickle.dump(tfidf_category, f)\n",
    "\n",
    "x_train_combined = hstack([x_train_name, x_train_type, x_train_family, x_train_category])\n",
    "\n",
    "print(f\"x_train_combined shape: {x_train_combined.shape}\")\n",
    "print(f\"y_train shape: {y_train.shape}\")\n",
    "\n",
    "model = Sequential()\n",
    "model.add(Dense(128, activation='relu'))\n",
    "model.add(Dropout(0.3))\n",
    "\n",
    "model.add(Dense(64, activation='relu'))\n",
    "model.add(Dropout(0.3))\n",
    "\n",
    "model.add(Dense(y_train.shape[1], activation='softmax'))  \n",
    "\n",
    "optimizer = Adam(learning_rate=0.001)\n",
    "model.compile(optimizer=optimizer, loss='categorical_crossentropy', metrics=['accuracy'])\n",
    "\n",
    "model.fit(x_train_combined.toarray(), y_train, epochs=20, batch_size=32)\n",
    "\n",
    "model.save(r'models/BIM_CLASSIFICATION_MODEL.keras')"
   ]
  },
  {
   "cell_type": "markdown",
   "metadata": {},
   "source": [
    "Test model"
   ]
  },
  {
   "cell_type": "code",
   "execution_count": 11,
   "metadata": {},
   "outputs": [
    {
     "name": "stdout",
     "output_type": "stream",
     "text": [
      "\u001b[1m306/306\u001b[0m \u001b[32m━━━━━━━━━━━━━━━━━━━━\u001b[0m\u001b[37m\u001b[0m \u001b[1m0s\u001b[0m 834us/step\n"
     ]
    }
   ],
   "source": [
    "import pandas as pd\n",
    "import numpy as np\n",
    "from keras.api.models import load_model\n",
    "import pickle\n",
    "\n",
    "model = load_model(r'models/BIM_CLASSIFICATION_MODEL.keras')\n",
    "\n",
    "df_objects = pd.read_csv(r'data/objectsRevaluated.csv', sep=',', low_memory=False)\n",
    "df_objects = df_objects[['Name', 'Type', 'Family', 'Category', 'NBR_COD', 'NBR_DESC']]\n",
    "\n",
    "df_sample = df_objects\n",
    "\n",
    "with open('models/tfidf_name.pkl', 'rb') as f:\n",
    "    tfidf_name = pickle.load(f)\n",
    "\n",
    "with open('models/tfidf_type.pkl', 'rb') as f:\n",
    "    tfidf_type = pickle.load(f)\n",
    "\n",
    "with open('models/tfidf_family.pkl', 'rb') as f:\n",
    "    tfidf_family = pickle.load(f)\n",
    "\n",
    "with open('models/tfidf_category.pkl', 'rb') as f:\n",
    "    tfidf_category = pickle.load(f)\n",
    "\n",
    "x_test_name = tfidf_name.transform(df_sample['Name'].astype(str))\n",
    "x_test_type = tfidf_type.transform(df_sample['Type'].astype(str))\n",
    "x_test_family = tfidf_family.transform(df_sample['Family'].astype(str))\n",
    "x_test_category = tfidf_category.transform(df_sample['Category'].astype(str))\n",
    "\n",
    "x_test_combined = np.hstack([x_test_name.toarray(), x_test_type.toarray(), x_test_family.toarray(), x_test_category.toarray()])\n",
    "\n",
    "y_pred = model.predict(x_test_combined)\n",
    "y_pred_labels = np.argmax(y_pred, axis=1)\n",
    "df_sample['NBR_COD_PRED'] = label_encoder.inverse_transform(y_pred_labels)\n",
    "df_sample.to_csv(r'predictions\\NBR_predicted.csv')\n"
   ]
  }
 ],
 "metadata": {
  "kernelspec": {
   "display_name": "Python 3",
   "language": "python",
   "name": "python3"
  },
  "language_info": {
   "codemirror_mode": {
    "name": "ipython",
    "version": 3
   },
   "file_extension": ".py",
   "mimetype": "text/x-python",
   "name": "python",
   "nbconvert_exporter": "python",
   "pygments_lexer": "ipython3",
   "version": "3.12.4"
  }
 },
 "nbformat": 4,
 "nbformat_minor": 2
}
